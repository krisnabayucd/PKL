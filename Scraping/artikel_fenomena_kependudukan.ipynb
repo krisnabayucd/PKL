{
 "cells": [
  {
   "cell_type": "code",
   "execution_count": 1,
   "id": "cb56f4b5",
   "metadata": {},
   "outputs": [],
   "source": [
    "import pandas as pd\n",
    "from scrapy.selector import Selector\n",
    "from selenium import webdriver \n",
    "from selenium.webdriver.common.by import By\n",
    "from selenium.common.exceptions import NoSuchElementException\n",
    "from selenium.webdriver.support.ui import WebDriverWait\n",
    "from selenium.webdriver.support import expected_conditions as EC\n",
    "from selenium.webdriver.chrome.service import Service\n",
    "from webdriver_manager.chrome import ChromeDriverManager\n",
    "import time"
   ]
  },
  {
   "cell_type": "code",
   "execution_count": 105,
   "id": "d83a60e3",
   "metadata": {},
   "outputs": [
    {
     "name": "stdout",
     "output_type": "stream",
     "text": [
      "\n"
     ]
    },
    {
     "name": "stderr",
     "output_type": "stream",
     "text": [
      "[WDM] - ====== WebDriver manager ======\n",
      "[WDM] - Current google-chrome version is 109.0.5414\n",
      "[WDM] - Get LATEST chromedriver version for 109.0.5414 google-chrome\n",
      "[WDM] - Driver [C:\\Users\\krish\\.wdm\\drivers\\chromedriver\\win32\\109.0.5414.74\\chromedriver.exe] found in cache\n"
     ]
    }
   ],
   "source": [
    "driver = webdriver.Chrome(service=Service(ChromeDriverManager().install()))\n",
    "\n",
    "driver.get('https://www.nusabali.com/search?keyword=kependudukan')\n",
    "\n",
    "count = 0\n",
    "\n",
    "while (count<15):\n",
    "    try:\n",
    "        time.sleep(1)\n",
    "        driver.execute_script(\"arguments[0].click();\", WebDriverWait(driver, 20).until(EC.element_to_be_clickable((By.CSS_SELECTOR, '#main-content > div.wrapper.clearfix > div.col-a.pull-left > section.widget-area-2.pull-right > div > div > div.row > div > button'))))\n",
    "        count +=1\n",
    "    except: \n",
    "        break"
   ]
  },
  {
   "cell_type": "code",
   "execution_count": 106,
   "id": "0d0771b3",
   "metadata": {},
   "outputs": [],
   "source": [
    "article_links = driver.find_elements(By.CSS_SELECTOR, \"div.row div.row h5>a[href]\")\n",
    "article_links = list(set([l.get_attribute('href') for l in article_links])) ## set <-> unique"
   ]
  },
  {
   "cell_type": "code",
   "execution_count": 107,
   "id": "950b6d41",
   "metadata": {},
   "outputs": [
    {
     "data": {
      "text/plain": [
       "320"
      ]
     },
     "execution_count": 107,
     "metadata": {},
     "output_type": "execute_result"
    }
   ],
   "source": [
    "len(article_links)"
   ]
  },
  {
   "cell_type": "code",
   "execution_count": 108,
   "id": "218074d8",
   "metadata": {},
   "outputs": [],
   "source": [
    "# empty list\n",
    "headline_list = []\n",
    "content_list = []"
   ]
  },
  {
   "cell_type": "code",
   "execution_count": 109,
   "id": "add9570e",
   "metadata": {},
   "outputs": [],
   "source": [
    "dates = driver.find_elements(By.CSS_SELECTOR, 'span.entry-date.pull-left.clearfix')\n",
    "date_list = []\n",
    "\n",
    "for date in dates:\n",
    "    date_list.append(date.text)"
   ]
  },
  {
   "cell_type": "code",
   "execution_count": 110,
   "id": "e339152c",
   "metadata": {},
   "outputs": [],
   "source": [
    "for url in article_links:\n",
    "    driver.get(url)\n",
    "    ### SCRAPE ARTICLE ###\n",
    "    # title\n",
    "    headline = driver.find_element(By.TAG_NAME, \"h1\")\n",
    "    headline_list.append(headline.text)\n",
    "    # content\n",
    "    content = driver.find_element(By.CLASS_NAME, \"entry-content\") \n",
    "    #content = ' '.join(content)\n",
    "    content_list.append(content.text)"
   ]
  },
  {
   "cell_type": "code",
   "execution_count": null,
   "id": "b6e1d9c6",
   "metadata": {},
   "outputs": [],
   "source": [
    "#content_list = ' '.join(content)"
   ]
  },
  {
   "cell_type": "code",
   "execution_count": 111,
   "id": "3f1b5ab6",
   "metadata": {},
   "outputs": [],
   "source": [
    "df_test = pd.DataFrame(headline_list,columns=['headline'])"
   ]
  },
  {
   "cell_type": "code",
   "execution_count": 112,
   "id": "cebec610",
   "metadata": {},
   "outputs": [],
   "source": [
    "df_test['date'] = pd.Series(date_list)"
   ]
  },
  {
   "cell_type": "code",
   "execution_count": 113,
   "id": "6a811814",
   "metadata": {},
   "outputs": [],
   "source": [
    "df_test['content'] = pd.Series(content_list)"
   ]
  },
  {
   "cell_type": "code",
   "execution_count": 114,
   "id": "a5fb9c98",
   "metadata": {},
   "outputs": [],
   "source": [
    "df_test['link'] = pd.Series(article_links)"
   ]
  },
  {
   "cell_type": "code",
   "execution_count": 115,
   "id": "7bb0e755",
   "metadata": {},
   "outputs": [
    {
     "data": {
      "text/html": [
       "<div>\n",
       "<style scoped>\n",
       "    .dataframe tbody tr th:only-of-type {\n",
       "        vertical-align: middle;\n",
       "    }\n",
       "\n",
       "    .dataframe tbody tr th {\n",
       "        vertical-align: top;\n",
       "    }\n",
       "\n",
       "    .dataframe thead th {\n",
       "        text-align: right;\n",
       "    }\n",
       "</style>\n",
       "<table border=\"1\" class=\"dataframe\">\n",
       "  <thead>\n",
       "    <tr style=\"text-align: right;\">\n",
       "      <th></th>\n",
       "      <th>headline</th>\n",
       "      <th>date</th>\n",
       "      <th>content</th>\n",
       "      <th>link</th>\n",
       "    </tr>\n",
       "  </thead>\n",
       "  <tbody>\n",
       "    <tr>\n",
       "      <th>0</th>\n",
       "      <td>Sidak Duktang Polsek Dentim Nihil Pelanggaran</td>\n",
       "      <td>26 Jan 2023 08:37</td>\n",
       "      <td>DENPASAR, NusaBali\\nPersonel Polsek Denpasar t...</td>\n",
       "      <td>https://www.nusabali.com/berita/128473/sidak-d...</td>\n",
       "    </tr>\n",
       "    <tr>\n",
       "      <th>1</th>\n",
       "      <td>Disdukcapil Gencarkan Sosialisasi Identitas Ke...</td>\n",
       "      <td>24 Jan 2023 11:48</td>\n",
       "      <td>DENPASAR, NusaBali\\nDinas Kependudukan dan Pen...</td>\n",
       "      <td>https://www.nusabali.com/berita/133944/disdukc...</td>\n",
       "    </tr>\n",
       "    <tr>\n",
       "      <th>2</th>\n",
       "      <td>Menikah ke Ubud Langsung Dapat Akta Perkawinan</td>\n",
       "      <td>20 Jan 2023 11:24</td>\n",
       "      <td>GIANYAR, NusaBali\\nCamat Ubud Ir I Wayan Suwij...</td>\n",
       "      <td>https://www.nusabali.com/berita/111333/menikah...</td>\n",
       "    </tr>\n",
       "    <tr>\n",
       "      <th>3</th>\n",
       "      <td>Pemeriksaan KTP Masih Ditiadakan</td>\n",
       "      <td>20 Jan 2023 09:27</td>\n",
       "      <td>Dinas Dukcapil Jembrana bersama petugas gabung...</td>\n",
       "      <td>https://www.nusabali.com/berita/117181/pemerik...</td>\n",
       "    </tr>\n",
       "    <tr>\n",
       "      <th>4</th>\n",
       "      <td>Seluruh Transaksi Pajak Pakai NIK, Berlaku Per...</td>\n",
       "      <td>19 Jan 2023 09:27</td>\n",
       "      <td>JAKARTA, NusaBali\\nNomor Induk Kependudukan (N...</td>\n",
       "      <td>https://www.nusabali.com/berita/121665/seluruh...</td>\n",
       "    </tr>\n",
       "  </tbody>\n",
       "</table>\n",
       "</div>"
      ],
      "text/plain": [
       "                                            headline               date  \\\n",
       "0      Sidak Duktang Polsek Dentim Nihil Pelanggaran  26 Jan 2023 08:37   \n",
       "1  Disdukcapil Gencarkan Sosialisasi Identitas Ke...  24 Jan 2023 11:48   \n",
       "2     Menikah ke Ubud Langsung Dapat Akta Perkawinan  20 Jan 2023 11:24   \n",
       "3                   Pemeriksaan KTP Masih Ditiadakan  20 Jan 2023 09:27   \n",
       "4  Seluruh Transaksi Pajak Pakai NIK, Berlaku Per...  19 Jan 2023 09:27   \n",
       "\n",
       "                                             content  \\\n",
       "0  DENPASAR, NusaBali\\nPersonel Polsek Denpasar t...   \n",
       "1  DENPASAR, NusaBali\\nDinas Kependudukan dan Pen...   \n",
       "2  GIANYAR, NusaBali\\nCamat Ubud Ir I Wayan Suwij...   \n",
       "3  Dinas Dukcapil Jembrana bersama petugas gabung...   \n",
       "4  JAKARTA, NusaBali\\nNomor Induk Kependudukan (N...   \n",
       "\n",
       "                                                link  \n",
       "0  https://www.nusabali.com/berita/128473/sidak-d...  \n",
       "1  https://www.nusabali.com/berita/133944/disdukc...  \n",
       "2  https://www.nusabali.com/berita/111333/menikah...  \n",
       "3  https://www.nusabali.com/berita/117181/pemerik...  \n",
       "4  https://www.nusabali.com/berita/121665/seluruh...  "
      ]
     },
     "execution_count": 115,
     "metadata": {},
     "output_type": "execute_result"
    }
   ],
   "source": [
    "df_test.head()"
   ]
  },
  {
   "cell_type": "code",
   "execution_count": 116,
   "id": "0380e56c",
   "metadata": {},
   "outputs": [
    {
     "name": "stdout",
     "output_type": "stream",
     "text": [
      "<class 'pandas.core.frame.DataFrame'>\n",
      "RangeIndex: 320 entries, 0 to 319\n",
      "Data columns (total 4 columns):\n",
      " #   Column    Non-Null Count  Dtype \n",
      "---  ------    --------------  ----- \n",
      " 0   headline  320 non-null    object\n",
      " 1   date      320 non-null    object\n",
      " 2   content   320 non-null    object\n",
      " 3   link      320 non-null    object\n",
      "dtypes: object(4)\n",
      "memory usage: 10.1+ KB\n"
     ]
    }
   ],
   "source": [
    "df_test.info()"
   ]
  },
  {
   "cell_type": "code",
   "execution_count": 117,
   "id": "cfa5843a",
   "metadata": {},
   "outputs": [],
   "source": [
    "df_test.to_excel('kependudukan.xlsx')"
   ]
  },
  {
   "cell_type": "code",
   "execution_count": 25,
   "id": "f9a11061",
   "metadata": {},
   "outputs": [
    {
     "data": {
      "text/plain": [
       "0"
      ]
     },
     "execution_count": 25,
     "metadata": {},
     "output_type": "execute_result"
    }
   ],
   "source": [
    "(df_test.headline.values == 'Tekan').sum()"
   ]
  },
  {
   "cell_type": "code",
   "execution_count": null,
   "id": "9f848d4c",
   "metadata": {},
   "outputs": [],
   "source": []
  }
 ],
 "metadata": {
  "kernelspec": {
   "display_name": "Python 3 (ipykernel)",
   "language": "python",
   "name": "python3"
  },
  "language_info": {
   "codemirror_mode": {
    "name": "ipython",
    "version": 3
   },
   "file_extension": ".py",
   "mimetype": "text/x-python",
   "name": "python",
   "nbconvert_exporter": "python",
   "pygments_lexer": "ipython3",
   "version": "3.9.12"
  }
 },
 "nbformat": 4,
 "nbformat_minor": 5
}
