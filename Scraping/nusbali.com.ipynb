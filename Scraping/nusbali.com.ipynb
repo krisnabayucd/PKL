{
 "cells": [
  {
   "cell_type": "code",
   "execution_count": 1,
   "id": "ab744d45",
   "metadata": {},
   "outputs": [],
   "source": [
    "import pandas as pd\n",
    "from scrapy.selector import Selector\n",
    "from selenium import webdriver \n",
    "from selenium.webdriver.common.by import By\n",
    "from selenium.common.exceptions import NoSuchElementException\n",
    "from selenium.webdriver.support.ui import WebDriverWait\n",
    "from selenium.webdriver.support import expected_conditions as EC\n",
    "from selenium.webdriver.chrome.service import Service\n",
    "from webdriver_manager.chrome import ChromeDriverManager\n",
    "import time"
   ]
  },
  {
   "cell_type": "code",
   "execution_count": 2,
   "id": "58c69c11",
   "metadata": {},
   "outputs": [
    {
     "name": "stdout",
     "output_type": "stream",
     "text": [
      "\n"
     ]
    },
    {
     "name": "stderr",
     "output_type": "stream",
     "text": [
      "[WDM] - ====== WebDriver manager ======\n",
      "[WDM] - Current google-chrome version is 108.0.5359\n",
      "[WDM] - Get LATEST chromedriver version for 108.0.5359 google-chrome\n",
      "[WDM] - Driver [C:\\Users\\krish\\.wdm\\drivers\\chromedriver\\win32\\108.0.5359.71\\chromedriver.exe] found in cache\n"
     ]
    }
   ],
   "source": [
    "driver = webdriver.Chrome(service=Service(ChromeDriverManager().install()))\n",
    "\n",
    "driver.get('https://www.nusabali.com/search?keyword=umkm')\n",
    "\n",
    "count = 0\n",
    "\n",
    "while (count<6):\n",
    "    try:\n",
    "        time.sleep(1)\n",
    "        driver.execute_script(\"arguments[0].click();\", WebDriverWait(driver, 20).until(EC.element_to_be_clickable((By.CSS_SELECTOR, '#main-content > div.wrapper.clearfix > div.col-a.pull-left > section.widget-area-2.pull-right > div > div > div.row > div > button'))))\n",
    "        count +=1\n",
    "    except: \n",
    "        break"
   ]
  },
  {
   "cell_type": "markdown",
   "id": "c1a5f72f",
   "metadata": {},
   "source": [
    "### TITLE"
   ]
  },
  {
   "cell_type": "code",
   "execution_count": 3,
   "id": "432eb882",
   "metadata": {},
   "outputs": [],
   "source": [
    "titles = driver.find_elements(By.TAG_NAME, 'h5')\n",
    "title_list = []\n",
    "\n",
    "for title in titles:\n",
    "    title_list.append(title.text)"
   ]
  },
  {
   "cell_type": "code",
   "execution_count": 4,
   "id": "c70472f3",
   "metadata": {},
   "outputs": [],
   "source": [
    "df = pd.DataFrame(title_list,columns=['title'])"
   ]
  },
  {
   "cell_type": "code",
   "execution_count": 6,
   "id": "b2a81c46",
   "metadata": {},
   "outputs": [
    {
     "data": {
      "text/html": [
       "<div>\n",
       "<style scoped>\n",
       "    .dataframe tbody tr th:only-of-type {\n",
       "        vertical-align: middle;\n",
       "    }\n",
       "\n",
       "    .dataframe tbody tr th {\n",
       "        vertical-align: top;\n",
       "    }\n",
       "\n",
       "    .dataframe thead th {\n",
       "        text-align: right;\n",
       "    }\n",
       "</style>\n",
       "<table border=\"1\" class=\"dataframe\">\n",
       "  <thead>\n",
       "    <tr style=\"text-align: right;\">\n",
       "      <th></th>\n",
       "      <th>title</th>\n",
       "    </tr>\n",
       "  </thead>\n",
       "  <tbody>\n",
       "    <tr>\n",
       "      <th>0</th>\n",
       "      <td>Harga Ayam Anjlok, Pemerintah Diminta Serap Ay...</td>\n",
       "    </tr>\n",
       "    <tr>\n",
       "      <th>1</th>\n",
       "      <td>2024, Buleleng Targetkan Kemiskinan Ekstrem Tu...</td>\n",
       "    </tr>\n",
       "    <tr>\n",
       "      <th>2</th>\n",
       "      <td>Hari ini Ikuti Kegiatan HUT partai di Jakarta,...</td>\n",
       "    </tr>\n",
       "    <tr>\n",
       "      <th>3</th>\n",
       "      <td>Realisasi Bansos BBM Cuma 55,38%</td>\n",
       "    </tr>\n",
       "    <tr>\n",
       "      <th>4</th>\n",
       "      <td>Dana Desa Buleleng Rp 126 Miliar</td>\n",
       "    </tr>\n",
       "  </tbody>\n",
       "</table>\n",
       "</div>"
      ],
      "text/plain": [
       "                                               title\n",
       "0  Harga Ayam Anjlok, Pemerintah Diminta Serap Ay...\n",
       "1  2024, Buleleng Targetkan Kemiskinan Ekstrem Tu...\n",
       "2  Hari ini Ikuti Kegiatan HUT partai di Jakarta,...\n",
       "3                   Realisasi Bansos BBM Cuma 55,38%\n",
       "4                   Dana Desa Buleleng Rp 126 Miliar"
      ]
     },
     "execution_count": 6,
     "metadata": {},
     "output_type": "execute_result"
    }
   ],
   "source": [
    "df.head()"
   ]
  },
  {
   "cell_type": "markdown",
   "id": "83925c2e",
   "metadata": {},
   "source": [
    "### DATE"
   ]
  },
  {
   "cell_type": "code",
   "execution_count": 7,
   "id": "04a5794e",
   "metadata": {},
   "outputs": [],
   "source": [
    "dates = driver.find_elements(By.CSS_SELECTOR, 'span.entry-date.pull-left.clearfix')\n",
    "date_list = []\n",
    "\n",
    "for date in dates:\n",
    "    date_list.append(date.text)"
   ]
  },
  {
   "cell_type": "code",
   "execution_count": 8,
   "id": "4a89137e",
   "metadata": {},
   "outputs": [],
   "source": [
    "df['date'] = pd.Series(date_list)"
   ]
  },
  {
   "cell_type": "code",
   "execution_count": 9,
   "id": "ca6a4b14",
   "metadata": {},
   "outputs": [
    {
     "data": {
      "text/html": [
       "<div>\n",
       "<style scoped>\n",
       "    .dataframe tbody tr th:only-of-type {\n",
       "        vertical-align: middle;\n",
       "    }\n",
       "\n",
       "    .dataframe tbody tr th {\n",
       "        vertical-align: top;\n",
       "    }\n",
       "\n",
       "    .dataframe thead th {\n",
       "        text-align: right;\n",
       "    }\n",
       "</style>\n",
       "<table border=\"1\" class=\"dataframe\">\n",
       "  <thead>\n",
       "    <tr style=\"text-align: right;\">\n",
       "      <th></th>\n",
       "      <th>title</th>\n",
       "      <th>date</th>\n",
       "    </tr>\n",
       "  </thead>\n",
       "  <tbody>\n",
       "    <tr>\n",
       "      <th>0</th>\n",
       "      <td>Harga Ayam Anjlok, Pemerintah Diminta Serap Ay...</td>\n",
       "      <td>11 Jan 2023 11:23</td>\n",
       "    </tr>\n",
       "    <tr>\n",
       "      <th>1</th>\n",
       "      <td>2024, Buleleng Targetkan Kemiskinan Ekstrem Tu...</td>\n",
       "      <td>11 Jan 2023 08:05</td>\n",
       "    </tr>\n",
       "    <tr>\n",
       "      <th>2</th>\n",
       "      <td>Hari ini Ikuti Kegiatan HUT partai di Jakarta,...</td>\n",
       "      <td>10 Jan 2023 13:11</td>\n",
       "    </tr>\n",
       "    <tr>\n",
       "      <th>3</th>\n",
       "      <td>Realisasi Bansos BBM Cuma 55,38%</td>\n",
       "      <td>10 Jan 2023 11:10</td>\n",
       "    </tr>\n",
       "    <tr>\n",
       "      <th>4</th>\n",
       "      <td>Dana Desa Buleleng Rp 126 Miliar</td>\n",
       "      <td>10 Jan 2023 08:32</td>\n",
       "    </tr>\n",
       "  </tbody>\n",
       "</table>\n",
       "</div>"
      ],
      "text/plain": [
       "                                               title               date\n",
       "0  Harga Ayam Anjlok, Pemerintah Diminta Serap Ay...  11 Jan 2023 11:23\n",
       "1  2024, Buleleng Targetkan Kemiskinan Ekstrem Tu...  11 Jan 2023 08:05\n",
       "2  Hari ini Ikuti Kegiatan HUT partai di Jakarta,...  10 Jan 2023 13:11\n",
       "3                   Realisasi Bansos BBM Cuma 55,38%  10 Jan 2023 11:10\n",
       "4                   Dana Desa Buleleng Rp 126 Miliar  10 Jan 2023 08:32"
      ]
     },
     "execution_count": 9,
     "metadata": {},
     "output_type": "execute_result"
    }
   ],
   "source": [
    "df.head()"
   ]
  },
  {
   "cell_type": "markdown",
   "id": "e73bc668",
   "metadata": {},
   "source": [
    "### CONTENT"
   ]
  },
  {
   "cell_type": "code",
   "execution_count": 10,
   "id": "168dc353",
   "metadata": {},
   "outputs": [],
   "source": [
    "contents = driver.find_elements(By.TAG_NAME, 'p')\n",
    "content_list = []\n",
    "\n",
    "for content in contents:\n",
    "    content_list.append(content.text) "
   ]
  },
  {
   "cell_type": "code",
   "execution_count": 11,
   "id": "3453f32a",
   "metadata": {},
   "outputs": [],
   "source": [
    "df['content'] = pd.Series(content_list)"
   ]
  },
  {
   "cell_type": "code",
   "execution_count": 12,
   "id": "f782e2d9",
   "metadata": {},
   "outputs": [
    {
     "data": {
      "text/html": [
       "<div>\n",
       "<style scoped>\n",
       "    .dataframe tbody tr th:only-of-type {\n",
       "        vertical-align: middle;\n",
       "    }\n",
       "\n",
       "    .dataframe tbody tr th {\n",
       "        vertical-align: top;\n",
       "    }\n",
       "\n",
       "    .dataframe thead th {\n",
       "        text-align: right;\n",
       "    }\n",
       "</style>\n",
       "<table border=\"1\" class=\"dataframe\">\n",
       "  <thead>\n",
       "    <tr style=\"text-align: right;\">\n",
       "      <th></th>\n",
       "      <th>title</th>\n",
       "      <th>date</th>\n",
       "      <th>content</th>\n",
       "    </tr>\n",
       "  </thead>\n",
       "  <tbody>\n",
       "    <tr>\n",
       "      <th>0</th>\n",
       "      <td>Harga Ayam Anjlok, Pemerintah Diminta Serap Ay...</td>\n",
       "      <td>11 Jan 2023 11:23</td>\n",
       "      <td>JAKARTA, NusaBali\\nKomunitas Peternak Unggas N...</td>\n",
       "    </tr>\n",
       "    <tr>\n",
       "      <th>1</th>\n",
       "      <td>2024, Buleleng Targetkan Kemiskinan Ekstrem Tu...</td>\n",
       "      <td>11 Jan 2023 08:05</td>\n",
       "      <td>SINGARAJA, NusaBali\\nPemkab Buleleng menargetk...</td>\n",
       "    </tr>\n",
       "    <tr>\n",
       "      <th>2</th>\n",
       "      <td>Hari ini Ikuti Kegiatan HUT partai di Jakarta,...</td>\n",
       "      <td>10 Jan 2023 13:11</td>\n",
       "      <td>JAKARTA,NusaBali\\nPDI Perjuangan (PDIP) Provin...</td>\n",
       "    </tr>\n",
       "    <tr>\n",
       "      <th>3</th>\n",
       "      <td>Realisasi Bansos BBM Cuma 55,38%</td>\n",
       "      <td>10 Jan 2023 11:10</td>\n",
       "      <td>TABANAN, NusaBali\\nPenyaluran bantuan sosial (...</td>\n",
       "    </tr>\n",
       "    <tr>\n",
       "      <th>4</th>\n",
       "      <td>Dana Desa Buleleng Rp 126 Miliar</td>\n",
       "      <td>10 Jan 2023 08:32</td>\n",
       "      <td>Realisasi dana desa di 129 desa se-Kabupaten B...</td>\n",
       "    </tr>\n",
       "  </tbody>\n",
       "</table>\n",
       "</div>"
      ],
      "text/plain": [
       "                                               title               date  \\\n",
       "0  Harga Ayam Anjlok, Pemerintah Diminta Serap Ay...  11 Jan 2023 11:23   \n",
       "1  2024, Buleleng Targetkan Kemiskinan Ekstrem Tu...  11 Jan 2023 08:05   \n",
       "2  Hari ini Ikuti Kegiatan HUT partai di Jakarta,...  10 Jan 2023 13:11   \n",
       "3                   Realisasi Bansos BBM Cuma 55,38%  10 Jan 2023 11:10   \n",
       "4                   Dana Desa Buleleng Rp 126 Miliar  10 Jan 2023 08:32   \n",
       "\n",
       "                                             content  \n",
       "0  JAKARTA, NusaBali\\nKomunitas Peternak Unggas N...  \n",
       "1  SINGARAJA, NusaBali\\nPemkab Buleleng menargetk...  \n",
       "2  JAKARTA,NusaBali\\nPDI Perjuangan (PDIP) Provin...  \n",
       "3  TABANAN, NusaBali\\nPenyaluran bantuan sosial (...  \n",
       "4  Realisasi dana desa di 129 desa se-Kabupaten B...  "
      ]
     },
     "execution_count": 12,
     "metadata": {},
     "output_type": "execute_result"
    }
   ],
   "source": [
    "df.head()"
   ]
  },
  {
   "cell_type": "markdown",
   "id": "822d4b9f",
   "metadata": {},
   "source": [
    "### LINK"
   ]
  },
  {
   "cell_type": "code",
   "execution_count": 14,
   "id": "f4a024e8",
   "metadata": {},
   "outputs": [],
   "source": [
    "links = driver.find_elements(By.CSS_SELECTOR, \"h5 > a\")\n",
    "link_list = []\n",
    "\n",
    "for link in links:\n",
    "    link=link.get_attribute(\"href\")\n",
    "    link_list.append(link)"
   ]
  },
  {
   "cell_type": "code",
   "execution_count": 15,
   "id": "56bec515",
   "metadata": {},
   "outputs": [],
   "source": [
    "df['link'] = pd.Series(link_list)"
   ]
  },
  {
   "cell_type": "code",
   "execution_count": 16,
   "id": "e3bf06fd",
   "metadata": {},
   "outputs": [
    {
     "data": {
      "text/html": [
       "<div>\n",
       "<style scoped>\n",
       "    .dataframe tbody tr th:only-of-type {\n",
       "        vertical-align: middle;\n",
       "    }\n",
       "\n",
       "    .dataframe tbody tr th {\n",
       "        vertical-align: top;\n",
       "    }\n",
       "\n",
       "    .dataframe thead th {\n",
       "        text-align: right;\n",
       "    }\n",
       "</style>\n",
       "<table border=\"1\" class=\"dataframe\">\n",
       "  <thead>\n",
       "    <tr style=\"text-align: right;\">\n",
       "      <th></th>\n",
       "      <th>title</th>\n",
       "      <th>date</th>\n",
       "      <th>content</th>\n",
       "      <th>link</th>\n",
       "    </tr>\n",
       "  </thead>\n",
       "  <tbody>\n",
       "    <tr>\n",
       "      <th>0</th>\n",
       "      <td>Harga Ayam Anjlok, Pemerintah Diminta Serap Ay...</td>\n",
       "      <td>11 Jan 2023 11:23</td>\n",
       "      <td>JAKARTA, NusaBali\\nKomunitas Peternak Unggas N...</td>\n",
       "      <td>https://www.nusabali.com/berita/133398/harga-a...</td>\n",
       "    </tr>\n",
       "    <tr>\n",
       "      <th>1</th>\n",
       "      <td>2024, Buleleng Targetkan Kemiskinan Ekstrem Tu...</td>\n",
       "      <td>11 Jan 2023 08:05</td>\n",
       "      <td>SINGARAJA, NusaBali\\nPemkab Buleleng menargetk...</td>\n",
       "      <td>https://www.nusabali.com/berita/133345/2024-bu...</td>\n",
       "    </tr>\n",
       "    <tr>\n",
       "      <th>2</th>\n",
       "      <td>Hari ini Ikuti Kegiatan HUT partai di Jakarta,...</td>\n",
       "      <td>10 Jan 2023 13:11</td>\n",
       "      <td>JAKARTA,NusaBali\\nPDI Perjuangan (PDIP) Provin...</td>\n",
       "      <td>https://www.nusabali.com/berita/133262/hari-in...</td>\n",
       "    </tr>\n",
       "    <tr>\n",
       "      <th>3</th>\n",
       "      <td>Realisasi Bansos BBM Cuma 55,38%</td>\n",
       "      <td>10 Jan 2023 11:10</td>\n",
       "      <td>TABANAN, NusaBali\\nPenyaluran bantuan sosial (...</td>\n",
       "      <td>https://www.nusabali.com/berita/133239/realisa...</td>\n",
       "    </tr>\n",
       "    <tr>\n",
       "      <th>4</th>\n",
       "      <td>Dana Desa Buleleng Rp 126 Miliar</td>\n",
       "      <td>10 Jan 2023 08:32</td>\n",
       "      <td>Realisasi dana desa di 129 desa se-Kabupaten B...</td>\n",
       "      <td>https://www.nusabali.com/berita/133220/dana-de...</td>\n",
       "    </tr>\n",
       "  </tbody>\n",
       "</table>\n",
       "</div>"
      ],
      "text/plain": [
       "                                               title               date  \\\n",
       "0  Harga Ayam Anjlok, Pemerintah Diminta Serap Ay...  11 Jan 2023 11:23   \n",
       "1  2024, Buleleng Targetkan Kemiskinan Ekstrem Tu...  11 Jan 2023 08:05   \n",
       "2  Hari ini Ikuti Kegiatan HUT partai di Jakarta,...  10 Jan 2023 13:11   \n",
       "3                   Realisasi Bansos BBM Cuma 55,38%  10 Jan 2023 11:10   \n",
       "4                   Dana Desa Buleleng Rp 126 Miliar  10 Jan 2023 08:32   \n",
       "\n",
       "                                             content  \\\n",
       "0  JAKARTA, NusaBali\\nKomunitas Peternak Unggas N...   \n",
       "1  SINGARAJA, NusaBali\\nPemkab Buleleng menargetk...   \n",
       "2  JAKARTA,NusaBali\\nPDI Perjuangan (PDIP) Provin...   \n",
       "3  TABANAN, NusaBali\\nPenyaluran bantuan sosial (...   \n",
       "4  Realisasi dana desa di 129 desa se-Kabupaten B...   \n",
       "\n",
       "                                                link  \n",
       "0  https://www.nusabali.com/berita/133398/harga-a...  \n",
       "1  https://www.nusabali.com/berita/133345/2024-bu...  \n",
       "2  https://www.nusabali.com/berita/133262/hari-in...  \n",
       "3  https://www.nusabali.com/berita/133239/realisa...  \n",
       "4  https://www.nusabali.com/berita/133220/dana-de...  "
      ]
     },
     "execution_count": 16,
     "metadata": {},
     "output_type": "execute_result"
    }
   ],
   "source": [
    "df.head()"
   ]
  },
  {
   "cell_type": "code",
   "execution_count": 17,
   "id": "806412b1",
   "metadata": {},
   "outputs": [
    {
     "name": "stdout",
     "output_type": "stream",
     "text": [
      "<class 'pandas.core.frame.DataFrame'>\n",
      "RangeIndex: 157 entries, 0 to 156\n",
      "Data columns (total 4 columns):\n",
      " #   Column   Non-Null Count  Dtype \n",
      "---  ------   --------------  ----- \n",
      " 0   title    157 non-null    object\n",
      " 1   date     155 non-null    object\n",
      " 2   content  157 non-null    object\n",
      " 3   link     140 non-null    object\n",
      "dtypes: object(4)\n",
      "memory usage: 5.0+ KB\n"
     ]
    }
   ],
   "source": [
    "df.info()"
   ]
  },
  {
   "cell_type": "code",
   "execution_count": null,
   "id": "918d744f",
   "metadata": {},
   "outputs": [],
   "source": []
  }
 ],
 "metadata": {
  "kernelspec": {
   "display_name": "Python 3 (ipykernel)",
   "language": "python",
   "name": "python3"
  },
  "language_info": {
   "codemirror_mode": {
    "name": "ipython",
    "version": 3
   },
   "file_extension": ".py",
   "mimetype": "text/x-python",
   "name": "python",
   "nbconvert_exporter": "python",
   "pygments_lexer": "ipython3",
   "version": "3.9.12"
  }
 },
 "nbformat": 4,
 "nbformat_minor": 5
}
