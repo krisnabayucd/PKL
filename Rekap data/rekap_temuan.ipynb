{
  "nbformat": 4,
  "nbformat_minor": 0,
  "metadata": {
    "colab": {
      "provenance": []
    },
    "kernelspec": {
      "name": "python3",
      "display_name": "Python 3"
    },
    "language_info": {
      "name": "python"
    }
  },
  "cells": [
    {
      "cell_type": "code",
      "execution_count": 2,
      "metadata": {
        "id": "gp9L3XfDq835"
      },
      "outputs": [],
      "source": [
        "# libraries\n",
        "from google.colab import files\n",
        "import pandas as pd\n",
        "import sys\n",
        "import numpy as np"
      ]
    },
    {
      "cell_type": "code",
      "source": [
        "# upload file\n",
        "files.upload()"
      ],
      "metadata": {
        "id": "QxFgbj5orBG7"
      },
      "execution_count": null,
      "outputs": []
    },
    {
      "cell_type": "code",
      "source": [
        "# read data\n",
        "df = pd.read_excel('TEMUAN_WPK.xls')"
      ],
      "metadata": {
        "id": "0EAW6PTQrpLW",
        "colab": {
          "base_uri": "https://localhost:8080/"
        },
        "outputId": "997aa260-6777-46f5-e162-7a8de09e861d"
      },
      "execution_count": 56,
      "outputs": [
        {
          "output_type": "stream",
          "name": "stdout",
          "text": [
            "WARNING *** OLE2 inconsistency: SSCS size is 0 but SSAT size is non-zero\n"
          ]
        }
      ]
    },
    {
      "cell_type": "code",
      "source": [
        "df.head()"
      ],
      "metadata": {
        "colab": {
          "base_uri": "https://localhost:8080/",
          "height": 698
        },
        "id": "Wi99W5jXr209",
        "outputId": "b735f1d7-e859-4ba5-8522-8265571a891a"
      },
      "execution_count": 57,
      "outputs": [
        {
          "output_type": "execute_result",
          "data": {
            "text/plain": [
              "   R101  R102  R103  R104  R105    nks  nurt  r401                  r402  \\\n",
              "0    51     4    60     3     2  20062     6     1           I MADE ARTA   \n",
              "1    51     4    60     3     2  20062     6     2        NI MADE ASTINI   \n",
              "2    51     4    60     3     2  20062     6     3  I GEDE DENA BUDIARTA   \n",
              "3    51     4    60     7     1  26120     1     1        I KADEK SUBAGA   \n",
              "4    51     4    60     7     1  26120     1     2         NI KETUT TINI   \n",
              "\n",
              "   r403  ...  r407  r601  r1501a  r1501b  r1502a  r1502b  r1503  \\\n",
              "0     1  ...  55.0   0.0     NaN     NaN     NaN     NaN    NaN   \n",
              "1     2  ...  47.0   0.0     5.0     NaN     NaN     NaN    NaN   \n",
              "2     4  ...   1.0   2.0     NaN     NaN     NaN     NaN    NaN   \n",
              "3     1  ...  40.0   0.0     NaN     NaN     NaN     NaN    NaN   \n",
              "4     2  ...  40.0   0.0     5.0    23.0     1.0    24.0    2.0   \n",
              "\n",
              "                                          KETERANGAN  \\\n",
              "0                                                      \n",
              "1  Mempunyai anak kandung tetapi tidak pernah hamil?   \n",
              "2                                                      \n",
              "3                                                      \n",
              "4  Mempunyai anak kandung tetapi tidak pernah hamil?   \n",
              "\n",
              "                                             catatan statdokk  \n",
              "0  ART 3 ANAK ANGKAT. RUTA INI MENDAPATKAN BLT (C...        E  \n",
              "1  ART 3 ANAK ANGKAT. RUTA INI MENDAPATKAN BLT (C...        E  \n",
              "2  ART 3 ANAK ANGKAT. RUTA INI MENDAPATKAN BLT (C...        E  \n",
              "3  SELAIN MEMELIHARA SAPI KRT JUGA MENANAM JERUK ...        E  \n",
              "4  SELAIN MEMELIHARA SAPI KRT JUGA MENANAM JERUK ...        E  \n",
              "\n",
              "[5 rows x 22 columns]"
            ],
            "text/html": [
              "\n",
              "  <div id=\"df-eaa0caf4-c212-49e7-a592-295dd2a43d30\">\n",
              "    <div class=\"colab-df-container\">\n",
              "      <div>\n",
              "<style scoped>\n",
              "    .dataframe tbody tr th:only-of-type {\n",
              "        vertical-align: middle;\n",
              "    }\n",
              "\n",
              "    .dataframe tbody tr th {\n",
              "        vertical-align: top;\n",
              "    }\n",
              "\n",
              "    .dataframe thead th {\n",
              "        text-align: right;\n",
              "    }\n",
              "</style>\n",
              "<table border=\"1\" class=\"dataframe\">\n",
              "  <thead>\n",
              "    <tr style=\"text-align: right;\">\n",
              "      <th></th>\n",
              "      <th>R101</th>\n",
              "      <th>R102</th>\n",
              "      <th>R103</th>\n",
              "      <th>R104</th>\n",
              "      <th>R105</th>\n",
              "      <th>nks</th>\n",
              "      <th>nurt</th>\n",
              "      <th>r401</th>\n",
              "      <th>r402</th>\n",
              "      <th>r403</th>\n",
              "      <th>...</th>\n",
              "      <th>r407</th>\n",
              "      <th>r601</th>\n",
              "      <th>r1501a</th>\n",
              "      <th>r1501b</th>\n",
              "      <th>r1502a</th>\n",
              "      <th>r1502b</th>\n",
              "      <th>r1503</th>\n",
              "      <th>KETERANGAN</th>\n",
              "      <th>catatan</th>\n",
              "      <th>statdokk</th>\n",
              "    </tr>\n",
              "  </thead>\n",
              "  <tbody>\n",
              "    <tr>\n",
              "      <th>0</th>\n",
              "      <td>51</td>\n",
              "      <td>4</td>\n",
              "      <td>60</td>\n",
              "      <td>3</td>\n",
              "      <td>2</td>\n",
              "      <td>20062</td>\n",
              "      <td>6</td>\n",
              "      <td>1</td>\n",
              "      <td>I MADE ARTA</td>\n",
              "      <td>1</td>\n",
              "      <td>...</td>\n",
              "      <td>55.0</td>\n",
              "      <td>0.0</td>\n",
              "      <td>NaN</td>\n",
              "      <td>NaN</td>\n",
              "      <td>NaN</td>\n",
              "      <td>NaN</td>\n",
              "      <td>NaN</td>\n",
              "      <td></td>\n",
              "      <td>ART 3 ANAK ANGKAT. RUTA INI MENDAPATKAN BLT (C...</td>\n",
              "      <td>E</td>\n",
              "    </tr>\n",
              "    <tr>\n",
              "      <th>1</th>\n",
              "      <td>51</td>\n",
              "      <td>4</td>\n",
              "      <td>60</td>\n",
              "      <td>3</td>\n",
              "      <td>2</td>\n",
              "      <td>20062</td>\n",
              "      <td>6</td>\n",
              "      <td>2</td>\n",
              "      <td>NI MADE ASTINI</td>\n",
              "      <td>2</td>\n",
              "      <td>...</td>\n",
              "      <td>47.0</td>\n",
              "      <td>0.0</td>\n",
              "      <td>5.0</td>\n",
              "      <td>NaN</td>\n",
              "      <td>NaN</td>\n",
              "      <td>NaN</td>\n",
              "      <td>NaN</td>\n",
              "      <td>Mempunyai anak kandung tetapi tidak pernah hamil?</td>\n",
              "      <td>ART 3 ANAK ANGKAT. RUTA INI MENDAPATKAN BLT (C...</td>\n",
              "      <td>E</td>\n",
              "    </tr>\n",
              "    <tr>\n",
              "      <th>2</th>\n",
              "      <td>51</td>\n",
              "      <td>4</td>\n",
              "      <td>60</td>\n",
              "      <td>3</td>\n",
              "      <td>2</td>\n",
              "      <td>20062</td>\n",
              "      <td>6</td>\n",
              "      <td>3</td>\n",
              "      <td>I GEDE DENA BUDIARTA</td>\n",
              "      <td>4</td>\n",
              "      <td>...</td>\n",
              "      <td>1.0</td>\n",
              "      <td>2.0</td>\n",
              "      <td>NaN</td>\n",
              "      <td>NaN</td>\n",
              "      <td>NaN</td>\n",
              "      <td>NaN</td>\n",
              "      <td>NaN</td>\n",
              "      <td></td>\n",
              "      <td>ART 3 ANAK ANGKAT. RUTA INI MENDAPATKAN BLT (C...</td>\n",
              "      <td>E</td>\n",
              "    </tr>\n",
              "    <tr>\n",
              "      <th>3</th>\n",
              "      <td>51</td>\n",
              "      <td>4</td>\n",
              "      <td>60</td>\n",
              "      <td>7</td>\n",
              "      <td>1</td>\n",
              "      <td>26120</td>\n",
              "      <td>1</td>\n",
              "      <td>1</td>\n",
              "      <td>I KADEK SUBAGA</td>\n",
              "      <td>1</td>\n",
              "      <td>...</td>\n",
              "      <td>40.0</td>\n",
              "      <td>0.0</td>\n",
              "      <td>NaN</td>\n",
              "      <td>NaN</td>\n",
              "      <td>NaN</td>\n",
              "      <td>NaN</td>\n",
              "      <td>NaN</td>\n",
              "      <td></td>\n",
              "      <td>SELAIN MEMELIHARA SAPI KRT JUGA MENANAM JERUK ...</td>\n",
              "      <td>E</td>\n",
              "    </tr>\n",
              "    <tr>\n",
              "      <th>4</th>\n",
              "      <td>51</td>\n",
              "      <td>4</td>\n",
              "      <td>60</td>\n",
              "      <td>7</td>\n",
              "      <td>1</td>\n",
              "      <td>26120</td>\n",
              "      <td>1</td>\n",
              "      <td>2</td>\n",
              "      <td>NI KETUT TINI</td>\n",
              "      <td>2</td>\n",
              "      <td>...</td>\n",
              "      <td>40.0</td>\n",
              "      <td>0.0</td>\n",
              "      <td>5.0</td>\n",
              "      <td>23.0</td>\n",
              "      <td>1.0</td>\n",
              "      <td>24.0</td>\n",
              "      <td>2.0</td>\n",
              "      <td>Mempunyai anak kandung tetapi tidak pernah hamil?</td>\n",
              "      <td>SELAIN MEMELIHARA SAPI KRT JUGA MENANAM JERUK ...</td>\n",
              "      <td>E</td>\n",
              "    </tr>\n",
              "  </tbody>\n",
              "</table>\n",
              "<p>5 rows × 22 columns</p>\n",
              "</div>\n",
              "      <button class=\"colab-df-convert\" onclick=\"convertToInteractive('df-eaa0caf4-c212-49e7-a592-295dd2a43d30')\"\n",
              "              title=\"Convert this dataframe to an interactive table.\"\n",
              "              style=\"display:none;\">\n",
              "        \n",
              "  <svg xmlns=\"http://www.w3.org/2000/svg\" height=\"24px\"viewBox=\"0 0 24 24\"\n",
              "       width=\"24px\">\n",
              "    <path d=\"M0 0h24v24H0V0z\" fill=\"none\"/>\n",
              "    <path d=\"M18.56 5.44l.94 2.06.94-2.06 2.06-.94-2.06-.94-.94-2.06-.94 2.06-2.06.94zm-11 1L8.5 8.5l.94-2.06 2.06-.94-2.06-.94L8.5 2.5l-.94 2.06-2.06.94zm10 10l.94 2.06.94-2.06 2.06-.94-2.06-.94-.94-2.06-.94 2.06-2.06.94z\"/><path d=\"M17.41 7.96l-1.37-1.37c-.4-.4-.92-.59-1.43-.59-.52 0-1.04.2-1.43.59L10.3 9.45l-7.72 7.72c-.78.78-.78 2.05 0 2.83L4 21.41c.39.39.9.59 1.41.59.51 0 1.02-.2 1.41-.59l7.78-7.78 2.81-2.81c.8-.78.8-2.07 0-2.86zM5.41 20L4 18.59l7.72-7.72 1.47 1.35L5.41 20z\"/>\n",
              "  </svg>\n",
              "      </button>\n",
              "      \n",
              "  <style>\n",
              "    .colab-df-container {\n",
              "      display:flex;\n",
              "      flex-wrap:wrap;\n",
              "      gap: 12px;\n",
              "    }\n",
              "\n",
              "    .colab-df-convert {\n",
              "      background-color: #E8F0FE;\n",
              "      border: none;\n",
              "      border-radius: 50%;\n",
              "      cursor: pointer;\n",
              "      display: none;\n",
              "      fill: #1967D2;\n",
              "      height: 32px;\n",
              "      padding: 0 0 0 0;\n",
              "      width: 32px;\n",
              "    }\n",
              "\n",
              "    .colab-df-convert:hover {\n",
              "      background-color: #E2EBFA;\n",
              "      box-shadow: 0px 1px 2px rgba(60, 64, 67, 0.3), 0px 1px 3px 1px rgba(60, 64, 67, 0.15);\n",
              "      fill: #174EA6;\n",
              "    }\n",
              "\n",
              "    [theme=dark] .colab-df-convert {\n",
              "      background-color: #3B4455;\n",
              "      fill: #D2E3FC;\n",
              "    }\n",
              "\n",
              "    [theme=dark] .colab-df-convert:hover {\n",
              "      background-color: #434B5C;\n",
              "      box-shadow: 0px 1px 3px 1px rgba(0, 0, 0, 0.15);\n",
              "      filter: drop-shadow(0px 1px 2px rgba(0, 0, 0, 0.3));\n",
              "      fill: #FFFFFF;\n",
              "    }\n",
              "  </style>\n",
              "\n",
              "      <script>\n",
              "        const buttonEl =\n",
              "          document.querySelector('#df-eaa0caf4-c212-49e7-a592-295dd2a43d30 button.colab-df-convert');\n",
              "        buttonEl.style.display =\n",
              "          google.colab.kernel.accessAllowed ? 'block' : 'none';\n",
              "\n",
              "        async function convertToInteractive(key) {\n",
              "          const element = document.querySelector('#df-eaa0caf4-c212-49e7-a592-295dd2a43d30');\n",
              "          const dataTable =\n",
              "            await google.colab.kernel.invokeFunction('convertToInteractive',\n",
              "                                                     [key], {});\n",
              "          if (!dataTable) return;\n",
              "\n",
              "          const docLinkHtml = 'Like what you see? Visit the ' +\n",
              "            '<a target=\"_blank\" href=https://colab.research.google.com/notebooks/data_table.ipynb>data table notebook</a>'\n",
              "            + ' to learn more about interactive tables.';\n",
              "          element.innerHTML = '';\n",
              "          dataTable['output_type'] = 'display_data';\n",
              "          await google.colab.output.renderOutput(dataTable, element);\n",
              "          const docLink = document.createElement('div');\n",
              "          docLink.innerHTML = docLinkHtml;\n",
              "          element.appendChild(docLink);\n",
              "        }\n",
              "      </script>\n",
              "    </div>\n",
              "  </div>\n",
              "  "
            ]
          },
          "metadata": {},
          "execution_count": 57
        }
      ]
    },
    {
      "cell_type": "code",
      "source": [
        "# sum temuan\n",
        "print(df.TEMUAN.value_counts()) "
      ],
      "metadata": {
        "id": "TPwp9krir6Tf"
      },
      "execution_count": null,
      "outputs": []
    },
    {
      "cell_type": "code",
      "source": [
        "# sum kab\n",
        "print(df.R102.value_counts()) "
      ],
      "metadata": {
        "colab": {
          "base_uri": "https://localhost:8080/"
        },
        "id": "0jzgv5mwtxE3",
        "outputId": "8119f31f-aa7b-4aa1-9b91-0544952e95b4"
      },
      "execution_count": null,
      "outputs": [
        {
          "output_type": "stream",
          "name": "stdout",
          "text": [
            "2     252\n",
            "1     248\n",
            "7     196\n",
            "4     154\n",
            "5      73\n",
            "71      4\n",
            "Name: R102, dtype: int64\n"
          ]
        }
      ]
    },
    {
      "cell_type": "code",
      "source": [
        "# sum by group\n",
        "df_count = df.groupby(['R102', 'KETERANGAN'])['R102'].count()\n",
        "print(df_count)"
      ],
      "metadata": {
        "colab": {
          "base_uri": "https://localhost:8080/"
        },
        "id": "mgNuQPSduJbx",
        "outputId": "8f49e8ea-82a3-47f4-f99f-2285122065dc"
      },
      "execution_count": 58,
      "outputs": [
        {
          "output_type": "stream",
          "name": "stdout",
          "text": [
            "R102  KETERANGAN                                                                                          \n",
            "4                                                                                                             135\n",
            "      Cek selisih R407 (umur) dari anak tertua vs umur hamil pertama ibu kandungnya (R1501B)                   11\n",
            "      Cek selisih R407 (umur) dari anak tertua vs umur lahir pertama ibu kandungnya (R1502B)                   17\n",
            "      Mempunyai anak kandung berumur < 2 tahun, tetapi melahirkan anak lahir hidup terakhir > 2 tahun yang      3\n",
            "      Mempunyai anak kandung tetapi tidak pernah hamil?                                                         2\n",
            "6                                                                                                             152\n",
            "      Cek selisih R407 (umur) dari anak tertua vs umur hamil pertama ibu kandungnya (R1501B)                   14\n",
            "      Cek selisih R407 (umur) dari anak tertua vs umur lahir pertama ibu kandungnya (R1502B)                   28\n",
            "      Mempunyai anak kandung berumur < 2 tahun, tetapi melahirkan anak lahir hidup terakhir > 2 tahun yang      1\n",
            "71                                                                                                            109\n",
            "      Cek selisih R407 (umur) dari anak tertua vs umur hamil pertama ibu kandungnya (R1501B)                   10\n",
            "      Cek selisih R407 (umur) dari anak tertua vs umur lahir pertama ibu kandungnya (R1502B)                   16\n",
            "Name: R102, dtype: int64\n"
          ]
        }
      ]
    },
    {
      "cell_type": "code",
      "source": [
        "type(df_count)"
      ],
      "metadata": {
        "colab": {
          "base_uri": "https://localhost:8080/"
        },
        "id": "d9yfp3qB_7xa",
        "outputId": "61ef78ab-fcb7-4f43-bb6f-662280bc6a32"
      },
      "execution_count": null,
      "outputs": [
        {
          "output_type": "execute_result",
          "data": {
            "text/plain": [
              "pandas.core.series.Series"
            ]
          },
          "metadata": {},
          "execution_count": 22
        }
      ]
    },
    {
      "cell_type": "code",
      "source": [
        "# print pandas df without truncation\n",
        "df_count = df_count.to_string()"
      ],
      "metadata": {
        "id": "jmRXsii1AqGF"
      },
      "execution_count": 59,
      "outputs": []
    },
    {
      "cell_type": "code",
      "source": [
        "# convert series to string\n",
        "#df_count = str(df_count)"
      ],
      "metadata": {
        "id": "nlKzPgszCOTm"
      },
      "execution_count": null,
      "outputs": []
    },
    {
      "cell_type": "code",
      "source": [
        "# write to txt in case of truncation\n",
        "with open(\"output40.txt\", \"w\") as f_out:\n",
        "    f_out.write((df_count))"
      ],
      "metadata": {
        "id": "t9_dutQYA_mS"
      },
      "execution_count": 60,
      "outputs": []
    },
    {
      "cell_type": "code",
      "source": [
        "import turtle"
      ],
      "metadata": {
        "id": "rEo28MgNCHv6"
      },
      "execution_count": null,
      "outputs": []
    },
    {
      "cell_type": "code",
      "source": [
        "star = turtle.Turtle()\n",
        "\n",
        "for i in range(8):\n",
        "    star.right(135)\n",
        "    star.forward(200)\n",
        "\n",
        "turtle.done()"
      ],
      "metadata": {
        "id": "L2A8JzAdpmtZ"
      },
      "execution_count": null,
      "outputs": []
    }
  ]
}